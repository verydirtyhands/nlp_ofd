{
 "cells": [
  {
   "cell_type": "markdown",
   "id": "cb8e4a3d",
   "metadata": {},
   "source": [
    "# Обучение FastText\n"
   ]
  },
  {
   "cell_type": "code",
   "execution_count": 1,
   "id": "0025de88",
   "metadata": {
    "ExecuteTime": {
     "end_time": "2023-06-08T10:20:03.393807600Z",
     "start_time": "2023-06-08T10:20:02.596348500Z"
    }
   },
   "outputs": [],
   "source": [
    "from gensim.models.fasttext import FastText\n",
    "import pandas as pd"
   ]
  },
  {
   "cell_type": "markdown",
   "id": "aeb524ec",
   "metadata": {},
   "source": [
    "Выгрузим все чеки из размеченного датасета для обучения, а также из тестового датасета"
   ]
  },
  {
   "cell_type": "code",
   "execution_count": 2,
   "id": "066858b0",
   "metadata": {
    "ExecuteTime": {
     "end_time": "2023-06-08T10:20:03.493889400Z",
     "start_time": "2023-06-08T10:20:03.396902400Z"
    }
   },
   "outputs": [
    {
     "data": {
      "text/html": [
       "<div>\n",
       "<style scoped>\n",
       "    .dataframe tbody tr th:only-of-type {\n",
       "        vertical-align: middle;\n",
       "    }\n",
       "\n",
       "    .dataframe tbody tr th {\n",
       "        vertical-align: top;\n",
       "    }\n",
       "\n",
       "    .dataframe thead th {\n",
       "        text-align: right;\n",
       "    }\n",
       "</style>\n",
       "<table border=\"1\" class=\"dataframe\">\n",
       "  <thead>\n",
       "    <tr style=\"text-align: right;\">\n",
       "      <th></th>\n",
       "      <th>name</th>\n",
       "      <th>id</th>\n",
       "    </tr>\n",
       "  </thead>\n",
       "  <tbody>\n",
       "    <tr>\n",
       "      <th>0</th>\n",
       "      <td>Зубная щетка Орал Би Три эффект Деликатное отб...</td>\n",
       "      <td>NaN</td>\n",
       "    </tr>\n",
       "    <tr>\n",
       "      <th>1</th>\n",
       "      <td>салфетки VISTER влажные для ко</td>\n",
       "      <td>NaN</td>\n",
       "    </tr>\n",
       "    <tr>\n",
       "      <th>2</th>\n",
       "      <td>Платье женское DR8517K 7Л8999 Светло-серый 449...</td>\n",
       "      <td>NaN</td>\n",
       "    </tr>\n",
       "    <tr>\n",
       "      <th>3</th>\n",
       "      <td>ЛАКОМСТВО \"ДЕРЕВЕНСКИЕ ЛАКОМСТВА\" д/собак мини...</td>\n",
       "      <td>NaN</td>\n",
       "    </tr>\n",
       "    <tr>\n",
       "      <th>4</th>\n",
       "      <td>Суппорт гитарный Ergo Play Troster</td>\n",
       "      <td>NaN</td>\n",
       "    </tr>\n",
       "    <tr>\n",
       "      <th>...</th>\n",
       "      <td>...</td>\n",
       "      <td>...</td>\n",
       "    </tr>\n",
       "    <tr>\n",
       "      <th>1029995</th>\n",
       "      <td>774352 Рамка 2П., сл. кость</td>\n",
       "      <td>4995.0</td>\n",
       "    </tr>\n",
       "    <tr>\n",
       "      <th>1029996</th>\n",
       "      <td>Энерг. напиток Red Bull 0.25л</td>\n",
       "      <td>4996.0</td>\n",
       "    </tr>\n",
       "    <tr>\n",
       "      <th>1029997</th>\n",
       "      <td>36/025 Наконечники (т. никель) шт</td>\n",
       "      <td>4997.0</td>\n",
       "    </tr>\n",
       "    <tr>\n",
       "      <th>1029998</th>\n",
       "      <td>Шоколад РиттерСпорт мол.с цел.миндалем 100г</td>\n",
       "      <td>4998.0</td>\n",
       "    </tr>\n",
       "    <tr>\n",
       "      <th>1029999</th>\n",
       "      <td>00264242 Опора шаровая L=R</td>\n",
       "      <td>4999.0</td>\n",
       "    </tr>\n",
       "  </tbody>\n",
       "</table>\n",
       "<p>1030000 rows × 2 columns</p>\n",
       "</div>"
      ],
      "text/plain": [
       "                                                      name      id\n",
       "0        Зубная щетка Орал Би Три эффект Деликатное отб...     NaN\n",
       "1                           салфетки VISTER влажные для ко     NaN\n",
       "2        Платье женское DR8517K 7Л8999 Светло-серый 449...     NaN\n",
       "3        ЛАКОМСТВО \"ДЕРЕВЕНСКИЕ ЛАКОМСТВА\" д/собак мини...     NaN\n",
       "4                       Суппорт гитарный Ergo Play Troster     NaN\n",
       "...                                                    ...     ...\n",
       "1029995                        774352 Рамка 2П., сл. кость  4995.0\n",
       "1029996                      Энерг. напиток Red Bull 0.25л  4996.0\n",
       "1029997                  36/025 Наконечники (т. никель) шт  4997.0\n",
       "1029998        Шоколад РиттерСпорт мол.с цел.миндалем 100г  4998.0\n",
       "1029999                         00264242 Опора шаровая L=R  4999.0\n",
       "\n",
       "[1030000 rows x 2 columns]"
      ]
     },
     "execution_count": 2,
     "metadata": {},
     "output_type": "execute_result"
    }
   ],
   "source": [
    "untrain_df = pd.read_csv(\"train_unsupervised_dataset.csv\").fillna(\"\")\n",
    "train_df = pd.read_csv(\"train_supervised_dataset.csv\").fillna(\"\")\n",
    "test_df = pd.read_csv(\"test_dataset.csv\")\n",
    "names = pd.concat((untrain_df[[\"name\"]],train_df[[\"name\"]], test_df)).reset_index(drop=True)\n",
    "names"
   ]
  },
  {
   "cell_type": "markdown",
   "id": "9af18d74",
   "metadata": {},
   "source": [
    "В качестве предобработки приведем все к нижнему регистру\n",
    "Токенизируем по пробельным символам"
   ]
  },
  {
   "cell_type": "code",
   "execution_count": 3,
   "id": "2dddc22e",
   "metadata": {
    "ExecuteTime": {
     "end_time": "2023-06-08T10:20:03.638597600Z",
     "start_time": "2023-06-08T10:20:03.495407300Z"
    }
   },
   "outputs": [
    {
     "data": {
      "text/html": [
       "<div>\n",
       "<style scoped>\n",
       "    .dataframe tbody tr th:only-of-type {\n",
       "        vertical-align: middle;\n",
       "    }\n",
       "\n",
       "    .dataframe tbody tr th {\n",
       "        vertical-align: top;\n",
       "    }\n",
       "\n",
       "    .dataframe thead th {\n",
       "        text-align: right;\n",
       "    }\n",
       "</style>\n",
       "<table border=\"1\" class=\"dataframe\">\n",
       "  <thead>\n",
       "    <tr style=\"text-align: right;\">\n",
       "      <th></th>\n",
       "      <th>name</th>\n",
       "      <th>id</th>\n",
       "      <th>tokens</th>\n",
       "    </tr>\n",
       "  </thead>\n",
       "  <tbody>\n",
       "    <tr>\n",
       "      <th>0</th>\n",
       "      <td>Зубная щетка Орал Би Три эффект Деликатное отб...</td>\n",
       "      <td>NaN</td>\n",
       "      <td>[зубная, щетка, орал, би, три, эффект, деликат...</td>\n",
       "    </tr>\n",
       "    <tr>\n",
       "      <th>1</th>\n",
       "      <td>салфетки VISTER влажные для ко</td>\n",
       "      <td>NaN</td>\n",
       "      <td>[салфетки, vister, влажные, для, ко]</td>\n",
       "    </tr>\n",
       "    <tr>\n",
       "      <th>2</th>\n",
       "      <td>Платье женское DR8517K 7Л8999 Светло-серый 449...</td>\n",
       "      <td>NaN</td>\n",
       "      <td>[платье, женское, dr8517k, 7л8999, светло-серы...</td>\n",
       "    </tr>\n",
       "    <tr>\n",
       "      <th>3</th>\n",
       "      <td>ЛАКОМСТВО \"ДЕРЕВЕНСКИЕ ЛАКОМСТВА\" д/собак мини...</td>\n",
       "      <td>NaN</td>\n",
       "      <td>[лакомство, \"деревенские, лакомства\", д/собак,...</td>\n",
       "    </tr>\n",
       "    <tr>\n",
       "      <th>4</th>\n",
       "      <td>Суппорт гитарный Ergo Play Troster</td>\n",
       "      <td>NaN</td>\n",
       "      <td>[суппорт, гитарный, ergo, play, troster]</td>\n",
       "    </tr>\n",
       "    <tr>\n",
       "      <th>...</th>\n",
       "      <td>...</td>\n",
       "      <td>...</td>\n",
       "      <td>...</td>\n",
       "    </tr>\n",
       "    <tr>\n",
       "      <th>1029995</th>\n",
       "      <td>774352 Рамка 2П., сл. кость</td>\n",
       "      <td>4995.0</td>\n",
       "      <td>[774352, рамка, 2п.,, сл., кость]</td>\n",
       "    </tr>\n",
       "    <tr>\n",
       "      <th>1029996</th>\n",
       "      <td>Энерг. напиток Red Bull 0.25л</td>\n",
       "      <td>4996.0</td>\n",
       "      <td>[энерг., напиток, red, bull, 0.25л]</td>\n",
       "    </tr>\n",
       "    <tr>\n",
       "      <th>1029997</th>\n",
       "      <td>36/025 Наконечники (т. никель) шт</td>\n",
       "      <td>4997.0</td>\n",
       "      <td>[36/025, наконечники, (т., никель), шт]</td>\n",
       "    </tr>\n",
       "    <tr>\n",
       "      <th>1029998</th>\n",
       "      <td>Шоколад РиттерСпорт мол.с цел.миндалем 100г</td>\n",
       "      <td>4998.0</td>\n",
       "      <td>[шоколад, риттерспорт, мол.с, цел.миндалем, 100г]</td>\n",
       "    </tr>\n",
       "    <tr>\n",
       "      <th>1029999</th>\n",
       "      <td>00264242 Опора шаровая L=R</td>\n",
       "      <td>4999.0</td>\n",
       "      <td>[00264242, опора, шаровая, l=r]</td>\n",
       "    </tr>\n",
       "  </tbody>\n",
       "</table>\n",
       "<p>1030000 rows × 3 columns</p>\n",
       "</div>"
      ],
      "text/plain": [
       "                                                      name      id  \\\n",
       "0        Зубная щетка Орал Би Три эффект Деликатное отб...     NaN   \n",
       "1                           салфетки VISTER влажные для ко     NaN   \n",
       "2        Платье женское DR8517K 7Л8999 Светло-серый 449...     NaN   \n",
       "3        ЛАКОМСТВО \"ДЕРЕВЕНСКИЕ ЛАКОМСТВА\" д/собак мини...     NaN   \n",
       "4                       Суппорт гитарный Ergo Play Troster     NaN   \n",
       "...                                                    ...     ...   \n",
       "1029995                        774352 Рамка 2П., сл. кость  4995.0   \n",
       "1029996                      Энерг. напиток Red Bull 0.25л  4996.0   \n",
       "1029997                  36/025 Наконечники (т. никель) шт  4997.0   \n",
       "1029998        Шоколад РиттерСпорт мол.с цел.миндалем 100г  4998.0   \n",
       "1029999                         00264242 Опора шаровая L=R  4999.0   \n",
       "\n",
       "                                                    tokens  \n",
       "0        [зубная, щетка, орал, би, три, эффект, деликат...  \n",
       "1                     [салфетки, vister, влажные, для, ко]  \n",
       "2        [платье, женское, dr8517k, 7л8999, светло-серы...  \n",
       "3        [лакомство, \"деревенские, лакомства\", д/собак,...  \n",
       "4                 [суппорт, гитарный, ergo, play, troster]  \n",
       "...                                                    ...  \n",
       "1029995                  [774352, рамка, 2п.,, сл., кость]  \n",
       "1029996                [энерг., напиток, red, bull, 0.25л]  \n",
       "1029997            [36/025, наконечники, (т., никель), шт]  \n",
       "1029998  [шоколад, риттерспорт, мол.с, цел.миндалем, 100г]  \n",
       "1029999                    [00264242, опора, шаровая, l=r]  \n",
       "\n",
       "[1030000 rows x 3 columns]"
      ]
     },
     "execution_count": 3,
     "metadata": {},
     "output_type": "execute_result"
    }
   ],
   "source": [
    "names[\"tokens\"] = names[\"name\"].str.lower().str.split(' ')\n",
    "names"
   ]
  },
  {
   "cell_type": "markdown",
   "id": "40fb4fc8",
   "metadata": {},
   "source": [
    "Обученные векторы положим в файл `fasttext.model` для использования в моделях"
   ]
  },
  {
   "cell_type": "code",
   "execution_count": 4,
   "id": "bca4fbe1",
   "metadata": {
    "ExecuteTime": {
     "end_time": "2023-06-08T10:20:11.978458900Z",
     "start_time": "2023-06-08T10:20:03.668319100Z"
    }
   },
   "outputs": [],
   "source": [
    "FastText(names[\"tokens\"], vector_size=300).save(\"fasttext.model\")"
   ]
  }
 ],
 "metadata": {
  "kernelspec": {
   "display_name": "Python 3 (ipykernel)",
   "language": "python",
   "name": "python3"
  },
  "language_info": {
   "codemirror_mode": {
    "name": "ipython",
    "version": 3
   },
   "file_extension": ".py",
   "mimetype": "text/x-python",
   "name": "python",
   "nbconvert_exporter": "python",
   "pygments_lexer": "ipython3",
   "version": "3.9.16"
  }
 },
 "nbformat": 4,
 "nbformat_minor": 5
}
